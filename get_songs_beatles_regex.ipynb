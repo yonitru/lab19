{
 "cells": [
  {
   "cell_type": "code",
   "execution_count": 5,
   "metadata": {
    "collapsed": false
   },
   "outputs": [
    {
     "name": "stdout",
     "output_type": "stream",
     "text": [
      "{'Ob-La-Di, Ob-La-Da': 'McCartney', \"Can't Buy Me Love\": 'McCartney', 'The Night Before': 'McCartney', \"What's The New Mary Jane\": 'Lennon', 'Mean Mr. Mustard': 'Lennon', 'Hey Jude': 'McCartney', 'Good Night': 'Lennon', \"What You're Doing\": 'McCartney', 'Hello, Goodbye': 'McCartney', 'Every Little Thing': 'McCartney', 'Carry That Weight': 'McCartney', \"A Hard Day's Night\": 'Lennon', 'Get Back': 'McCartney', 'Wild Honey Pie': 'McCartney', 'Dear Prudence': 'Lennon', 'Martha My Dear': 'McCartney', 'Catswalk': 'McCartney', 'The Fool on the Hill': 'McCartney', \"Why Don't We Do It in the Road?\": 'McCartney', 'Good Morning, Good Morning': 'Lennon', \"I'll Follow the Sun\": 'McCartney', 'Eleanor Rigby': 'McCartney', 'Tell Me Why': 'Lennon', 'I Should Have Known Better': 'Lennon', 'You Never Give Me Your Money': 'McCartney', 'Back in the U.S.S.R.': 'McCartney', 'Junk': 'McCartney', 'This Boy': 'Lennon', \"I'll Cry Instead\": 'Lennon', \"Sgt. Pepper's Lonely Hearts Club Band (Reprise)\": 'McCartney', 'Golden Slumbers': 'McCartney', 'Madman': 'Lennon', 'All My Loving': 'McCartney', \"I Don't Want to Spoil the Party\": 'Lennon', 'Julia': 'Lennon', 'The Long and Winding Road': 'McCartney', \"I'm Only Sleeping\": 'Lennon', \"I'm Down\": 'McCartney', 'Helter Skelter': 'McCartney', \"I'll Be on My Way\": 'McCartney', \"I'm So Tired\": 'Lennon', 'Polythene Pam': 'Lennon', 'I Am the Walrus': 'Lennon', 'Teddy Boy': 'McCartney', 'Carnival of Light': 'McCartney', 'Across the Universe': 'Lennon', 'Etcetera': 'McCartney', 'I Lost My Little Girl': 'McCartney', 'Blackbird': 'McCartney', \"I'll Be Back\": 'Lennon', 'Girl': 'Lennon', 'Let It Be': 'McCartney', \"When I'm Sixty-Four\": 'McCartney', 'Your Mother Should Know': 'McCartney', 'Like Dreamers Do': 'McCartney', 'Child of Nature': 'Lennon', \"You Can't Do That\": 'Lennon', 'Come Together': 'Lennon', 'Her Majesty': 'McCartney', 'Things We Said Today': 'McCartney', 'Got to Get You into My Life': 'McCartney', \"All I've Got to Do\": 'Lennon', 'Glass Onion': 'Lennon', 'I Feel Fine': 'Lennon', 'Penny Lane': 'McCartney', \"I'm Looking Through You\": 'McCartney', \"She's a Woman\": 'McCartney', \"You Won't See Me\": 'McCartney', 'Good Day Sunshine': 'McCartney', 'Yesterday': 'McCartney', 'Yer Blues': 'Lennon', \"I'm In Love\": 'Lennon', 'Come and Get It': 'McCartney', \"I'm a Loser\": 'Lennon', 'I Call Your Name': 'Lennon', 'Tomorrow Never Knows': 'Lennon', 'Happiness Is a Warm Gun': 'Lennon', 'Cry Baby Cry': 'Lennon', 'Bad to Me': 'Lennon', 'Honey Pie': 'McCartney', 'Do You Want to Know a Secret?': 'Lennon', 'Sun King': 'Lennon', 'Strawberry Fields Forever': 'Lennon', \"Shakin' in the Sixties\": 'Lennon', \"You've Got to Hide Your Love Away\": 'Lennon', 'Yes It Is': 'Lennon', 'Oh! Darling': 'McCartney', 'For No One': 'McCartney', 'Another Girl': 'McCartney', 'I Will': 'McCartney', 'She Came in Through the Bathroom Window': 'McCartney', \"Don't Let Me Down\": 'Lennon', 'Revolution': 'Lennon', 'Not a Second Time': 'Lennon', 'Hello Little Girl': 'Lennon', 'Revolution 1': 'Lennon', 'Sexy Sadie': 'Lennon', 'The Continuing Story of Bungalow Bill': 'Lennon', 'Heather': 'McCartney', \"I Want You (She's So Heavy)\": 'Lennon', 'She Said She Said': 'Lennon', 'One After 909': 'Lennon', 'That Means a Lot': 'McCartney', \"You're Going to Lose That Girl\": 'Lennon', 'Nowhere Man': 'Lennon', 'Two of Us': 'McCartney', 'Rain': 'Lennon', \"Winston's Walk\": 'Lennon', 'Yellow Submarine': 'McCartney', 'One and One Is Two': 'McCartney', 'All You Need Is Love': 'Lennon', \"I've Just Seen a Face\": 'McCartney', 'Looking Glass': 'McCartney', 'Fixing a Hole': 'McCartney', \"Maxwell's Silver Hammer\": 'McCartney', 'Hey Bulldog': 'Lennon', 'The Ballad of John and Yoko': 'Lennon', 'Lovely Rita': 'McCartney', \"Sgt. Pepper's Lonely Hearts Club Band\": 'McCartney', 'Dig a Pony': 'Lennon', \"Everybody's Got Something to Hide Except Me and My Monkey\": 'Lennon', \"It's Only Love\": 'Lennon', 'Because': 'Lennon', 'Here, There and Everywhere': 'McCartney', 'Goodbye': 'McCartney', 'When I Get Home': 'Lennon', 'If I Fell': 'Lennon', 'Cayenne': 'McCartney', 'Paperback Writer': 'McCartney', 'The End': 'McCartney', 'Please Please Me': 'Lennon'}\n"
     ]
    }
   ],
   "source": [
    "import urllib.request\n",
    "import re\n",
    "import json\n",
    "songs = {}\n",
    "\n",
    "file = open('songs2.html', 'r', encoding=\"utf8\")\n",
    "\n",
    "column_count = -1\n",
    "title = None\n",
    "authors =['Lennon','McCartney','Lenon and McCartney', 'Lennon', 'with McCartney', 'McCartney', 'with Lennon']\n",
    "\n",
    "for line in file:    \n",
    "    if re.search(r'^<tr>\\n', line):\n",
    "        title = None\n",
    "        column_count = 0\n",
    "    \n",
    "    if re.search(r'^</tr>\\n', line):\n",
    "        column_count = -1\n",
    "\n",
    "    if column_count >= 0:\n",
    "        if re.search(r'^<td', line):\n",
    "            column_count += 1            \n",
    "        match = re.search(r'>\"?([^\"<]+)(</a>)?\"</td>', line)\n",
    "        if match:\n",
    "            title = match.group(1)\n",
    "        match = re.search(r'^<td>(.+)</td>\\n', line)\n",
    "        if match and column_count == 4 and title and match.group(1) in authors:\n",
    "            songs[title] = match.group(1)\n",
    "print(songs)\n",
    "\n",
    "with open('data3.json', 'w') as outfile:\n",
    "    json.dump(songs, outfile)\n"
   ]
  },
  {
   "cell_type": "code",
   "execution_count": null,
   "metadata": {
    "collapsed": true
   },
   "outputs": [],
   "source": []
  }
 ],
 "metadata": {
  "anaconda-cloud": {},
  "kernelspec": {
   "display_name": "Python [Root]",
   "language": "python",
   "name": "Python [Root]"
  },
  "language_info": {
   "codemirror_mode": {
    "name": "ipython",
    "version": 3
   },
   "file_extension": ".py",
   "mimetype": "text/x-python",
   "name": "python",
   "nbconvert_exporter": "python",
   "pygments_lexer": "ipython3",
   "version": "3.5.2"
  }
 },
 "nbformat": 4,
 "nbformat_minor": 0
}
